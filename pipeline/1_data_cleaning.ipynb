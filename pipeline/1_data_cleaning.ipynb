{
 "cells": [
  {
   "cell_type": "markdown",
   "metadata": {},
   "source": [
    "<h1>Data Cleaning</h1>\n",
    "\n",
    "<p>This is the second step of the NLP pipeline. For details on the first step (data collection), look under \"scrapers/\" to find the script that scrapes Reuters for company news data based on the stock ticker.</p>\n",
    "<p>The columns that have been scraped are</p>\n",
    "<ul>\n",
    "    <li>Date</li>\n",
    "    <li>Headline</li>\n",
    "    <li>First sentence of the article</li>\n",
    "</ul>"
   ]
  },
  {
   "cell_type": "code",
   "execution_count": null,
   "metadata": {},
   "outputs": [],
   "source": []
  }
 ],
 "metadata": {
  "kernelspec": {
   "display_name": "Python 3",
   "language": "python",
   "name": "python3"
  },
  "language_info": {
   "codemirror_mode": {
    "name": "ipython",
    "version": 3
   },
   "file_extension": ".py",
   "mimetype": "text/x-python",
   "name": "python",
   "nbconvert_exporter": "python",
   "pygments_lexer": "ipython3",
   "version": "3.8.3"
  }
 },
 "nbformat": 4,
 "nbformat_minor": 4
}
