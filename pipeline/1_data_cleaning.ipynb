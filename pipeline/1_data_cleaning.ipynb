{
 "cells": [
  {
   "cell_type": "markdown",
   "metadata": {},
   "source": [
    "<h1>Data Cleaning</h1>\n",
    "\n",
    "<p>This is the second step of the NLP pipeline. For details on the first step (data collection), look under the \"scrapers\" folder to find the script that scrapes Reuters for company news data based on the stock ticker.</p>"
   ]
  },
  {
   "cell_type": "markdown",
   "metadata": {},
   "source": [
    "<h2>Scraped Data</h2>\n",
    "\n",
    "<p>The data that's been scraped comprises</p>\n",
    "<ul>\n",
    "    <li>Dates</li>\n",
    "    <li>Headlines</li>\n",
    "    <li>First sentences of articles</li>\n",
    "</ul>\n",
    "\n",
    "<p>To start off, let's take a look at the raw dataset.</p>"
   ]
  },
  {
   "cell_type": "code",
   "execution_count": 1,
   "metadata": {},
   "outputs": [],
   "source": [
    "import pandas as pd"
   ]
  },
  {
   "cell_type": "code",
   "execution_count": 2,
   "metadata": {},
   "outputs": [],
   "source": [
    "# Note that although I'm using AAPL here, the Reuters scraper I wrote has been abstracted to scrape data for any ticker\n",
    "original_data = pd.read_csv(\"../dataset/AAPL_news.csv\")"
   ]
  },
  {
   "cell_type": "code",
   "execution_count": 3,
   "metadata": {},
   "outputs": [
    {
     "data": {
      "text/html": [
       "<div>\n",
       "<style scoped>\n",
       "    .dataframe tbody tr th:only-of-type {\n",
       "        vertical-align: middle;\n",
       "    }\n",
       "\n",
       "    .dataframe tbody tr th {\n",
       "        vertical-align: top;\n",
       "    }\n",
       "\n",
       "    .dataframe thead th {\n",
       "        text-align: right;\n",
       "    }\n",
       "</style>\n",
       "<table border=\"1\" class=\"dataframe\">\n",
       "  <thead>\n",
       "    <tr style=\"text-align: right;\">\n",
       "      <th></th>\n",
       "      <th>Date</th>\n",
       "      <th>Headline</th>\n",
       "      <th>Sentence</th>\n",
       "    </tr>\n",
       "  </thead>\n",
       "  <tbody>\n",
       "    <tr>\n",
       "      <th>0</th>\n",
       "      <td>JULY 23, 2020</td>\n",
       "      <td>U.S. Congressional hearing to question tech gi...</td>\n",
       "      <td>A U.S. congressional hearing scheduled for nex...</td>\n",
       "    </tr>\n",
       "    <tr>\n",
       "      <th>1</th>\n",
       "      <td>JULY 23, 2020</td>\n",
       "      <td>UPDATE 1-U.S. Congressional hearing to questio...</td>\n",
       "      <td>A U.S. congressional hearing scheduled for nex...</td>\n",
       "    </tr>\n",
       "    <tr>\n",
       "      <th>2</th>\n",
       "      <td>JULY 23, 2020</td>\n",
       "      <td>California appeals court rejects Apple TV cons...</td>\n",
       "      <td>A California appeals court has declined a bid ...</td>\n",
       "    </tr>\n",
       "    <tr>\n",
       "      <th>3</th>\n",
       "      <td>JULY 23, 2020</td>\n",
       "      <td>Apple faces deceptive trade practices probe by...</td>\n",
       "      <td>Multiple U.S. states are investigating Apple I...</td>\n",
       "    </tr>\n",
       "    <tr>\n",
       "      <th>4</th>\n",
       "      <td>JULY 23, 2020</td>\n",
       "      <td>Apple faces consumer protection probe by multi...</td>\n",
       "      <td>Multiple U.S. states are investigating Apple I...</td>\n",
       "    </tr>\n",
       "    <tr>\n",
       "      <th>...</th>\n",
       "      <td>...</td>\n",
       "      <td>...</td>\n",
       "      <td>...</td>\n",
       "    </tr>\n",
       "    <tr>\n",
       "      <th>678</th>\n",
       "      <td>APRIL 15, 2019</td>\n",
       "      <td>Huawei says not discussed 5G chipsets with App...</td>\n",
       "      <td>China's Huawei Technologies said on Tuesday it...</td>\n",
       "    </tr>\n",
       "    <tr>\n",
       "      <th>679</th>\n",
       "      <td>APRIL 15, 2019</td>\n",
       "      <td>Apple, allies seek billions in U.S. trial test...</td>\n",
       "      <td>Apple Inc and its allies on Monday will kick o...</td>\n",
       "    </tr>\n",
       "    <tr>\n",
       "      <th>680</th>\n",
       "      <td>APRIL 12, 2019</td>\n",
       "      <td>Apple hit with East Texas patent case over iPh...</td>\n",
       "      <td>A New York-based patent monetization company o...</td>\n",
       "    </tr>\n",
       "    <tr>\n",
       "      <th>681</th>\n",
       "      <td>APRIL 12, 2019</td>\n",
       "      <td>Chinese group to get control of Japan Display ...</td>\n",
       "      <td>A Chinese-Taiwanese group will take control of...</td>\n",
       "    </tr>\n",
       "    <tr>\n",
       "      <th>682</th>\n",
       "      <td>APRIL 12, 2019</td>\n",
       "      <td>Japanese supplier to Apple gets $1.1 bln in ba...</td>\n",
       "      <td>Apple Inc supplier Japan Display Inc said on F...</td>\n",
       "    </tr>\n",
       "  </tbody>\n",
       "</table>\n",
       "<p>683 rows × 3 columns</p>\n",
       "</div>"
      ],
      "text/plain": [
       "               Date                                           Headline  \\\n",
       "0     JULY 23, 2020  U.S. Congressional hearing to question tech gi...   \n",
       "1     JULY 23, 2020  UPDATE 1-U.S. Congressional hearing to questio...   \n",
       "2     JULY 23, 2020  California appeals court rejects Apple TV cons...   \n",
       "3     JULY 23, 2020  Apple faces deceptive trade practices probe by...   \n",
       "4     JULY 23, 2020  Apple faces consumer protection probe by multi...   \n",
       "..              ...                                                ...   \n",
       "678  APRIL 15, 2019  Huawei says not discussed 5G chipsets with App...   \n",
       "679  APRIL 15, 2019  Apple, allies seek billions in U.S. trial test...   \n",
       "680  APRIL 12, 2019  Apple hit with East Texas patent case over iPh...   \n",
       "681  APRIL 12, 2019  Chinese group to get control of Japan Display ...   \n",
       "682  APRIL 12, 2019  Japanese supplier to Apple gets $1.1 bln in ba...   \n",
       "\n",
       "                                              Sentence  \n",
       "0    A U.S. congressional hearing scheduled for nex...  \n",
       "1    A U.S. congressional hearing scheduled for nex...  \n",
       "2    A California appeals court has declined a bid ...  \n",
       "3    Multiple U.S. states are investigating Apple I...  \n",
       "4    Multiple U.S. states are investigating Apple I...  \n",
       "..                                                 ...  \n",
       "678  China's Huawei Technologies said on Tuesday it...  \n",
       "679  Apple Inc and its allies on Monday will kick o...  \n",
       "680  A New York-based patent monetization company o...  \n",
       "681  A Chinese-Taiwanese group will take control of...  \n",
       "682  Apple Inc supplier Japan Display Inc said on F...  \n",
       "\n",
       "[683 rows x 3 columns]"
      ]
     },
     "execution_count": 3,
     "metadata": {},
     "output_type": "execute_result"
    }
   ],
   "source": [
    "original_data"
   ]
  },
  {
   "cell_type": "markdown",
   "metadata": {},
   "source": [
    "<h2>Null values</h2>\n",
    "\n",
    "<p>A common issue in the date cleaning process is dealing with null values. Let's see how our original dataset fares in this aspect.</p>"
   ]
  },
  {
   "cell_type": "code",
   "execution_count": 4,
   "metadata": {},
   "outputs": [
    {
     "data": {
      "text/plain": [
       "Date        False\n",
       "Headline    False\n",
       "Sentence    False\n",
       "dtype: bool"
      ]
     },
     "execution_count": 4,
     "metadata": {},
     "output_type": "execute_result"
    }
   ],
   "source": [
    "original_data.isnull().any()"
   ]
  },
  {
   "cell_type": "markdown",
   "metadata": {},
   "source": [
    "<p>As we can see, there aren't any null values in the original dataset which is an indicator that our scraper performed relatively well. But then again, null values are a common issue only when dealing with numeric data, so soon enough, we will have to apply text pre-processing techniques to this dataset.</p>"
   ]
  },
  {
   "cell_type": "markdown",
   "metadata": {},
   "source": [
    "<h2>Date Format</h2>\n",
    "\n",
    "<p>Let's convert the \"Date\" column into a pandas Timestamp (pandas equivalent of the datetime object) and take a look at the results.</p>"
   ]
  },
  {
   "cell_type": "code",
   "execution_count": 5,
   "metadata": {},
   "outputs": [
    {
     "data": {
      "text/html": [
       "<div>\n",
       "<style scoped>\n",
       "    .dataframe tbody tr th:only-of-type {\n",
       "        vertical-align: middle;\n",
       "    }\n",
       "\n",
       "    .dataframe tbody tr th {\n",
       "        vertical-align: top;\n",
       "    }\n",
       "\n",
       "    .dataframe thead th {\n",
       "        text-align: right;\n",
       "    }\n",
       "</style>\n",
       "<table border=\"1\" class=\"dataframe\">\n",
       "  <thead>\n",
       "    <tr style=\"text-align: right;\">\n",
       "      <th></th>\n",
       "      <th>Date</th>\n",
       "      <th>Headline</th>\n",
       "      <th>Sentence</th>\n",
       "    </tr>\n",
       "  </thead>\n",
       "  <tbody>\n",
       "    <tr>\n",
       "      <th>0</th>\n",
       "      <td>2020-07-23</td>\n",
       "      <td>U.S. Congressional hearing to question tech gi...</td>\n",
       "      <td>A U.S. congressional hearing scheduled for nex...</td>\n",
       "    </tr>\n",
       "    <tr>\n",
       "      <th>1</th>\n",
       "      <td>2020-07-23</td>\n",
       "      <td>UPDATE 1-U.S. Congressional hearing to questio...</td>\n",
       "      <td>A U.S. congressional hearing scheduled for nex...</td>\n",
       "    </tr>\n",
       "    <tr>\n",
       "      <th>2</th>\n",
       "      <td>2020-07-23</td>\n",
       "      <td>California appeals court rejects Apple TV cons...</td>\n",
       "      <td>A California appeals court has declined a bid ...</td>\n",
       "    </tr>\n",
       "    <tr>\n",
       "      <th>3</th>\n",
       "      <td>2020-07-23</td>\n",
       "      <td>Apple faces deceptive trade practices probe by...</td>\n",
       "      <td>Multiple U.S. states are investigating Apple I...</td>\n",
       "    </tr>\n",
       "    <tr>\n",
       "      <th>4</th>\n",
       "      <td>2020-07-23</td>\n",
       "      <td>Apple faces consumer protection probe by multi...</td>\n",
       "      <td>Multiple U.S. states are investigating Apple I...</td>\n",
       "    </tr>\n",
       "  </tbody>\n",
       "</table>\n",
       "</div>"
      ],
      "text/plain": [
       "        Date                                           Headline  \\\n",
       "0 2020-07-23  U.S. Congressional hearing to question tech gi...   \n",
       "1 2020-07-23  UPDATE 1-U.S. Congressional hearing to questio...   \n",
       "2 2020-07-23  California appeals court rejects Apple TV cons...   \n",
       "3 2020-07-23  Apple faces deceptive trade practices probe by...   \n",
       "4 2020-07-23  Apple faces consumer protection probe by multi...   \n",
       "\n",
       "                                            Sentence  \n",
       "0  A U.S. congressional hearing scheduled for nex...  \n",
       "1  A U.S. congressional hearing scheduled for nex...  \n",
       "2  A California appeals court has declined a bid ...  \n",
       "3  Multiple U.S. states are investigating Apple I...  \n",
       "4  Multiple U.S. states are investigating Apple I...  "
      ]
     },
     "execution_count": 5,
     "metadata": {},
     "output_type": "execute_result"
    }
   ],
   "source": [
    "df = original_data.copy() # making a copy of the original DataFrame to work with\n",
    "df[\"Date\"] = pd.to_datetime(df[\"Date\"])\n",
    "\n",
    "df.head()"
   ]
  },
  {
   "cell_type": "markdown",
   "metadata": {},
   "source": [
    "<p>That's pretty much everything we have to do to the \"Date\" column as far as cleaning it up is concerned.</p>"
   ]
  },
  {
   "cell_type": "markdown",
   "metadata": {},
   "source": [
    "<h2>Common Functions to Clean Text Data</h2>\n",
    "\n",
    "<p>There are several ways to clean/process text data before feeding it into a model. The exact functions required varies across different use cases. Here are some of the procecssing steps we need to employ for this project</p>"
   ]
  },
  {
   "cell_type": "markdown",
   "metadata": {},
   "source": [
    "<li>Converting to lowercase</li>"
   ]
  },
  {
   "cell_type": "code",
   "execution_count": 6,
   "metadata": {},
   "outputs": [],
   "source": [
    "def to_lower(text):\n",
    "    return text.lower()"
   ]
  },
  {
   "cell_type": "markdown",
   "metadata": {},
   "source": [
    "<p>For the next set of cleanup functions, we are going to have to make a few imports</p>"
   ]
  },
  {
   "cell_type": "code",
   "execution_count": 7,
   "metadata": {},
   "outputs": [],
   "source": [
    "import re\n",
    "import string"
   ]
  },
  {
   "cell_type": "markdown",
   "metadata": {},
   "source": [
    "<li>Getting rid of punctuation</li>"
   ]
  },
  {
   "cell_type": "code",
   "execution_count": 8,
   "metadata": {},
   "outputs": [],
   "source": [
    "def remove_punctuation(text):\n",
    "    return re.sub(\"[%s]\" % re.escape(string.punctuation), \"\", text)"
   ]
  },
  {
   "cell_type": "markdown",
   "metadata": {},
   "source": [
    "<li>Replacing special characters (â€™ to represent ', random strings etc.)</li>"
   ]
  },
  {
   "cell_type": "code",
   "execution_count": 9,
   "metadata": {},
   "outputs": [],
   "source": [
    "def replace_special_chars(text):\n",
    "    text = text.replace(\"â€™\", \"\\'\")\n",
    "    text = text.replace(\"Ã¤ÃŸ\", \"\")\n",
    "    text = text.replace(\"Ã¼\", \"\")\n",
    "    \n",
    "    return text"
   ]
  },
  {
   "cell_type": "markdown",
   "metadata": {},
   "source": [
    "<li>Replacing country names (abbreviations)</li>"
   ]
  },
  {
   "cell_type": "code",
   "execution_count": 10,
   "metadata": {},
   "outputs": [],
   "source": [
    "def replace_country_names(text):\n",
    "    text = text.replace(\"U.S\", \"United States\")\n",
    "    text = text.replace(\"EU\", \"Europe\")\n",
    "    text = text.replace(\"UK\", \"United Kingdom\")\n",
    "    \n",
    "    return text"
   ]
  },
  {
   "cell_type": "markdown",
   "metadata": {},
   "source": [
    "<li>Removing numbers from words (034220.KS, COVID-19 to COVID etc.)</li>"
   ]
  },
  {
   "cell_type": "code",
   "execution_count": 11,
   "metadata": {},
   "outputs": [],
   "source": [
    "def remove_numbers(text):\n",
    "    return re.sub(\"[\\d-]\", \"\", text)"
   ]
  },
  {
   "cell_type": "markdown",
   "metadata": {},
   "source": [
    "<p>This is a good start. As we progress, if we notice unexpected results, we can come back and process the text in a couple more ways by implementing </p>\n",
    "    <ul>\n",
    "        <li>Lemmatization - Dealing with word inflections (ex. \"take\" is the same as \"taken\" or \"took\")</li>\n",
    "        <li>Creating n-grams - Considering n words at a time (ex. a bi-gram would be \"United States\" as opposed to considering \"united\" and \"states\" separately)</li>\n",
    "        <li>Parts of speech tagging - Recognizing nouns, pronouns (ex. \"Canada\", \"he\", \"it\" etc.)</li>\n",
    "        <li>Removing words containing numbers - Not done for now because \"COVID-19\" can be impactful on the result of the analysis</li>\n",
    "        <li>Removal of meaningless text</li>\n",
    "    </ul>\n",
    "\n",
    "<p>For now, let's clean up the text in our dataset using the utility functions defined above.</p>"
   ]
  },
  {
   "cell_type": "code",
   "execution_count": 12,
   "metadata": {},
   "outputs": [],
   "source": [
    "# Applies all the cleanup functions to a piece of text\n",
    "def clean_up_text(text):\n",
    "    text = replace_country_names(text)\n",
    "    text = replace_special_chars(text)\n",
    "    text = remove_numbers(text)\n",
    "    text = remove_punctuation(text)\n",
    "    text = to_lower(text)\n",
    "    \n",
    "    return text\n",
    "\n",
    "\n",
    "clean = lambda text: clean_up_text(text)"
   ]
  },
  {
   "cell_type": "code",
   "execution_count": 13,
   "metadata": {},
   "outputs": [
    {
     "data": {
      "text/html": [
       "<div>\n",
       "<style scoped>\n",
       "    .dataframe tbody tr th:only-of-type {\n",
       "        vertical-align: middle;\n",
       "    }\n",
       "\n",
       "    .dataframe tbody tr th {\n",
       "        vertical-align: top;\n",
       "    }\n",
       "\n",
       "    .dataframe thead th {\n",
       "        text-align: right;\n",
       "    }\n",
       "</style>\n",
       "<table border=\"1\" class=\"dataframe\">\n",
       "  <thead>\n",
       "    <tr style=\"text-align: right;\">\n",
       "      <th></th>\n",
       "      <th>Date</th>\n",
       "      <th>Headline</th>\n",
       "      <th>Sentence</th>\n",
       "    </tr>\n",
       "  </thead>\n",
       "  <tbody>\n",
       "    <tr>\n",
       "      <th>0</th>\n",
       "      <td>2020-07-23</td>\n",
       "      <td>united states congressional hearing to questio...</td>\n",
       "      <td>a united states congressional hearing schedule...</td>\n",
       "    </tr>\n",
       "    <tr>\n",
       "      <th>1</th>\n",
       "      <td>2020-07-23</td>\n",
       "      <td>update united states congressional hearing to ...</td>\n",
       "      <td>a united states congressional hearing schedule...</td>\n",
       "    </tr>\n",
       "    <tr>\n",
       "      <th>2</th>\n",
       "      <td>2020-07-23</td>\n",
       "      <td>california appeals court rejects apple tv cons...</td>\n",
       "      <td>a california appeals court has declined a bid ...</td>\n",
       "    </tr>\n",
       "    <tr>\n",
       "      <th>3</th>\n",
       "      <td>2020-07-23</td>\n",
       "      <td>apple faces deceptive trade practices probe by...</td>\n",
       "      <td>multiple united states states are investigatin...</td>\n",
       "    </tr>\n",
       "    <tr>\n",
       "      <th>4</th>\n",
       "      <td>2020-07-23</td>\n",
       "      <td>apple faces consumer protection probe by multi...</td>\n",
       "      <td>multiple united states states are investigatin...</td>\n",
       "    </tr>\n",
       "    <tr>\n",
       "      <th>...</th>\n",
       "      <td>...</td>\n",
       "      <td>...</td>\n",
       "      <td>...</td>\n",
       "    </tr>\n",
       "    <tr>\n",
       "      <th>678</th>\n",
       "      <td>2019-04-15</td>\n",
       "      <td>huawei says not discussed g chipsets with appl...</td>\n",
       "      <td>chinas huawei technologies said on tuesday it ...</td>\n",
       "    </tr>\n",
       "    <tr>\n",
       "      <th>679</th>\n",
       "      <td>2019-04-15</td>\n",
       "      <td>apple allies seek billions in united states tr...</td>\n",
       "      <td>apple inc and its allies on monday will kick o...</td>\n",
       "    </tr>\n",
       "    <tr>\n",
       "      <th>680</th>\n",
       "      <td>2019-04-12</td>\n",
       "      <td>apple hit with east texas patent case over iph...</td>\n",
       "      <td>a new yorkbased patent monetization company on...</td>\n",
       "    </tr>\n",
       "    <tr>\n",
       "      <th>681</th>\n",
       "      <td>2019-04-12</td>\n",
       "      <td>chinese group to get control of japan display ...</td>\n",
       "      <td>a chinesetaiwanese group will take control of ...</td>\n",
       "    </tr>\n",
       "    <tr>\n",
       "      <th>682</th>\n",
       "      <td>2019-04-12</td>\n",
       "      <td>japanese supplier to apple gets  bln in bailou...</td>\n",
       "      <td>apple inc supplier japan display inc said on f...</td>\n",
       "    </tr>\n",
       "  </tbody>\n",
       "</table>\n",
       "<p>683 rows × 3 columns</p>\n",
       "</div>"
      ],
      "text/plain": [
       "          Date                                           Headline  \\\n",
       "0   2020-07-23  united states congressional hearing to questio...   \n",
       "1   2020-07-23  update united states congressional hearing to ...   \n",
       "2   2020-07-23  california appeals court rejects apple tv cons...   \n",
       "3   2020-07-23  apple faces deceptive trade practices probe by...   \n",
       "4   2020-07-23  apple faces consumer protection probe by multi...   \n",
       "..         ...                                                ...   \n",
       "678 2019-04-15  huawei says not discussed g chipsets with appl...   \n",
       "679 2019-04-15  apple allies seek billions in united states tr...   \n",
       "680 2019-04-12  apple hit with east texas patent case over iph...   \n",
       "681 2019-04-12  chinese group to get control of japan display ...   \n",
       "682 2019-04-12  japanese supplier to apple gets  bln in bailou...   \n",
       "\n",
       "                                              Sentence  \n",
       "0    a united states congressional hearing schedule...  \n",
       "1    a united states congressional hearing schedule...  \n",
       "2    a california appeals court has declined a bid ...  \n",
       "3    multiple united states states are investigatin...  \n",
       "4    multiple united states states are investigatin...  \n",
       "..                                                 ...  \n",
       "678  chinas huawei technologies said on tuesday it ...  \n",
       "679  apple inc and its allies on monday will kick o...  \n",
       "680  a new yorkbased patent monetization company on...  \n",
       "681  a chinesetaiwanese group will take control of ...  \n",
       "682  apple inc supplier japan display inc said on f...  \n",
       "\n",
       "[683 rows x 3 columns]"
      ]
     },
     "execution_count": 13,
     "metadata": {},
     "output_type": "execute_result"
    }
   ],
   "source": [
    "# Creating a DataFrame with clean text\n",
    "headline_clean = pd.DataFrame(df[\"Headline\"].apply(clean))\n",
    "sentence_clean = pd.DataFrame(df[\"Sentence\"].apply(clean))\n",
    "df_clean = pd.concat([headline_clean, sentence_clean], axis=1)\n",
    "df_clean = pd.concat([df[\"Date\"], df_clean], axis=1)\n",
    "\n",
    "df_clean"
   ]
  },
  {
   "cell_type": "code",
   "execution_count": null,
   "metadata": {},
   "outputs": [],
   "source": []
  }
 ],
 "metadata": {
  "kernelspec": {
   "display_name": "Python 3",
   "language": "python",
   "name": "python3"
  },
  "language_info": {
   "codemirror_mode": {
    "name": "ipython",
    "version": 3
   },
   "file_extension": ".py",
   "mimetype": "text/x-python",
   "name": "python",
   "nbconvert_exporter": "python",
   "pygments_lexer": "ipython3",
   "version": "3.8.3"
  }
 },
 "nbformat": 4,
 "nbformat_minor": 4
}
