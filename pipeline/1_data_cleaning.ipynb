{
 "cells": [
  {
   "cell_type": "markdown",
   "metadata": {},
   "source": [
    "<h1>Data Cleaning</h1>\n",
    "\n",
    "<p>This is the second step of the NLP pipeline. For details on the first step (data collection), look under \"scrapers/\" to find the script that scrapes Reuters for company news data based on the stock ticker.</p>"
   ]
  },
  {
   "cell_type": "markdown",
   "metadata": {},
   "source": [
    "<h2>Scraped Data</h2>\n",
    "\n",
    "<p>The data that's been scraped comprises</p>\n",
    "<ul>\n",
    "    <li>Dates</li>\n",
    "    <li>Headlines</li>\n",
    "    <li>First sentences of articles</li>\n",
    "</ul>\n",
    "\n",
    "<p>To start off, let's take a look at the raw dataset.</p>"
   ]
  },
  {
   "cell_type": "code",
   "execution_count": 1,
   "metadata": {},
   "outputs": [],
   "source": [
    "import pandas as pd"
   ]
  },
  {
   "cell_type": "code",
   "execution_count": 2,
   "metadata": {},
   "outputs": [],
   "source": [
    "# Note that although I'm using AAPL here, the Reuters scraper I wrote has been abstracted to scrape data for any ticker\n",
    "original_data = pd.read_csv(\"../dataset/AAPL_news.csv\")"
   ]
  },
  {
   "cell_type": "code",
   "execution_count": 3,
   "metadata": {},
   "outputs": [
    {
     "data": {
      "text/html": [
       "<div>\n",
       "<style scoped>\n",
       "    .dataframe tbody tr th:only-of-type {\n",
       "        vertical-align: middle;\n",
       "    }\n",
       "\n",
       "    .dataframe tbody tr th {\n",
       "        vertical-align: top;\n",
       "    }\n",
       "\n",
       "    .dataframe thead th {\n",
       "        text-align: right;\n",
       "    }\n",
       "</style>\n",
       "<table border=\"1\" class=\"dataframe\">\n",
       "  <thead>\n",
       "    <tr style=\"text-align: right;\">\n",
       "      <th></th>\n",
       "      <th>Date</th>\n",
       "      <th>Headline</th>\n",
       "      <th>Sentence</th>\n",
       "    </tr>\n",
       "  </thead>\n",
       "  <tbody>\n",
       "    <tr>\n",
       "      <th>0</th>\n",
       "      <td>JULY 23, 2020</td>\n",
       "      <td>U.S. Congressional hearing to question tech gi...</td>\n",
       "      <td>A U.S. congressional hearing scheduled for nex...</td>\n",
       "    </tr>\n",
       "    <tr>\n",
       "      <th>1</th>\n",
       "      <td>JULY 23, 2020</td>\n",
       "      <td>UPDATE 1-U.S. Congressional hearing to questio...</td>\n",
       "      <td>A U.S. congressional hearing scheduled for nex...</td>\n",
       "    </tr>\n",
       "    <tr>\n",
       "      <th>2</th>\n",
       "      <td>JULY 23, 2020</td>\n",
       "      <td>California appeals court rejects Apple TV cons...</td>\n",
       "      <td>A California appeals court has declined a bid ...</td>\n",
       "    </tr>\n",
       "    <tr>\n",
       "      <th>3</th>\n",
       "      <td>JULY 23, 2020</td>\n",
       "      <td>Apple faces deceptive trade practices probe by...</td>\n",
       "      <td>Multiple U.S. states are investigating Apple I...</td>\n",
       "    </tr>\n",
       "    <tr>\n",
       "      <th>4</th>\n",
       "      <td>JULY 23, 2020</td>\n",
       "      <td>Apple faces consumer protection probe by multi...</td>\n",
       "      <td>Multiple U.S. states are investigating Apple I...</td>\n",
       "    </tr>\n",
       "    <tr>\n",
       "      <th>...</th>\n",
       "      <td>...</td>\n",
       "      <td>...</td>\n",
       "      <td>...</td>\n",
       "    </tr>\n",
       "    <tr>\n",
       "      <th>1861</th>\n",
       "      <td>JULY 12, 2017</td>\n",
       "      <td>9th Circuit looks to Calif. high court for ans...</td>\n",
       "      <td>A federal appeals court signaled that it would...</td>\n",
       "    </tr>\n",
       "    <tr>\n",
       "      <th>1862</th>\n",
       "      <td>JULY 12, 2017</td>\n",
       "      <td>Apple, Google win appeals in antipiracy patent...</td>\n",
       "      <td>A federal appeals court on Wednesday declined ...</td>\n",
       "    </tr>\n",
       "    <tr>\n",
       "      <th>1863</th>\n",
       "      <td>JULY 12, 2017</td>\n",
       "      <td>BRIEF-Contentguard Holdings says Federal Circu...</td>\n",
       "      <td>* Contentguard Holdings - on July 12, 2017, Fe...</td>\n",
       "    </tr>\n",
       "    <tr>\n",
       "      <th>1864</th>\n",
       "      <td>JULY 12, 2017</td>\n",
       "      <td>Apple sets up China data center to meet new cy...</td>\n",
       "      <td>Apple Inc on Wednesday said it is setting up i...</td>\n",
       "    </tr>\n",
       "    <tr>\n",
       "      <th>1865</th>\n",
       "      <td>JULY 12, 2017</td>\n",
       "      <td>Apple sets up China data centre to meet new cy...</td>\n",
       "      <td>Apple Inc has set up its first data centre in ...</td>\n",
       "    </tr>\n",
       "  </tbody>\n",
       "</table>\n",
       "<p>1866 rows × 3 columns</p>\n",
       "</div>"
      ],
      "text/plain": [
       "               Date                                           Headline  \\\n",
       "0     JULY 23, 2020  U.S. Congressional hearing to question tech gi...   \n",
       "1     JULY 23, 2020  UPDATE 1-U.S. Congressional hearing to questio...   \n",
       "2     JULY 23, 2020  California appeals court rejects Apple TV cons...   \n",
       "3     JULY 23, 2020  Apple faces deceptive trade practices probe by...   \n",
       "4     JULY 23, 2020  Apple faces consumer protection probe by multi...   \n",
       "...             ...                                                ...   \n",
       "1861  JULY 12, 2017  9th Circuit looks to Calif. high court for ans...   \n",
       "1862  JULY 12, 2017  Apple, Google win appeals in antipiracy patent...   \n",
       "1863  JULY 12, 2017  BRIEF-Contentguard Holdings says Federal Circu...   \n",
       "1864  JULY 12, 2017  Apple sets up China data center to meet new cy...   \n",
       "1865  JULY 12, 2017  Apple sets up China data centre to meet new cy...   \n",
       "\n",
       "                                               Sentence  \n",
       "0     A U.S. congressional hearing scheduled for nex...  \n",
       "1     A U.S. congressional hearing scheduled for nex...  \n",
       "2     A California appeals court has declined a bid ...  \n",
       "3     Multiple U.S. states are investigating Apple I...  \n",
       "4     Multiple U.S. states are investigating Apple I...  \n",
       "...                                                 ...  \n",
       "1861  A federal appeals court signaled that it would...  \n",
       "1862  A federal appeals court on Wednesday declined ...  \n",
       "1863  * Contentguard Holdings - on July 12, 2017, Fe...  \n",
       "1864  Apple Inc on Wednesday said it is setting up i...  \n",
       "1865  Apple Inc has set up its first data centre in ...  \n",
       "\n",
       "[1866 rows x 3 columns]"
      ]
     },
     "execution_count": 3,
     "metadata": {},
     "output_type": "execute_result"
    }
   ],
   "source": [
    "original_data"
   ]
  },
  {
   "cell_type": "markdown",
   "metadata": {},
   "source": [
    "<p>A common issue in the date cleaning process is dealing with null values. Let's see how our original data fares in this aspect.</p>"
   ]
  },
  {
   "cell_type": "code",
   "execution_count": 8,
   "metadata": {},
   "outputs": [
    {
     "data": {
      "text/plain": [
       "Date        False\n",
       "Headline    False\n",
       "Sentence    False\n",
       "dtype: bool"
      ]
     },
     "execution_count": 8,
     "metadata": {},
     "output_type": "execute_result"
    }
   ],
   "source": [
    "original_data.isnull().any()"
   ]
  },
  {
   "cell_type": "markdown",
   "metadata": {},
   "source": [
    "<p>As we can see, there aren't any null values in the original dataset which is an indicator that our scraper performed relatively well.</p>"
   ]
  },
  {
   "cell_type": "markdown",
   "metadata": {},
   "source": [
    "<p>Let's take a closer look at the \"Date\" column of the original dataset as the values in it are soon going to have to be converted to pandas Timestamps.</p>"
   ]
  },
  {
   "cell_type": "code",
   "execution_count": 14,
   "metadata": {},
   "outputs": [
    {
     "data": {
      "text/plain": [
       "'NOVEMBER 15, '"
      ]
     },
     "execution_count": 14,
     "metadata": {},
     "output_type": "execute_result"
    }
   ],
   "source": [
    "original_data[\"Date\"][377]"
   ]
  },
  {
   "cell_type": "code",
   "execution_count": null,
   "metadata": {},
   "outputs": [],
   "source": []
  }
 ],
 "metadata": {
  "kernelspec": {
   "display_name": "Python 3",
   "language": "python",
   "name": "python3"
  },
  "language_info": {
   "codemirror_mode": {
    "name": "ipython",
    "version": 3
   },
   "file_extension": ".py",
   "mimetype": "text/x-python",
   "name": "python",
   "nbconvert_exporter": "python",
   "pygments_lexer": "ipython3",
   "version": "3.8.3"
  }
 },
 "nbformat": 4,
 "nbformat_minor": 4
}
