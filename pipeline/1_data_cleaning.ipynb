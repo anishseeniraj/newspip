{
 "cells": [
  {
   "cell_type": "markdown",
   "metadata": {},
   "source": [
    "<h1>Data Cleaning</h1>\n",
    "\n",
    "<p>This is the second step of the NLP pipeline. For details on the first step (data collection), look under \"scrapers/\" to find the script that scrapes Reuters for company news data based on the stock ticker.</p>"
   ]
  },
  {
   "cell_type": "markdown",
   "metadata": {},
   "source": [
    "<h2>Scraped Data</h2>\n",
    "\n",
    "<p>The data that's been scraped comprises</p>\n",
    "<ul>\n",
    "    <li>Dates</li>\n",
    "    <li>Headlines</li>\n",
    "    <li>First sentences of articles</li>\n",
    "</ul>\n",
    "\n",
    "<p>To start off, let's take a look at the raw dataset.</p>"
   ]
  },
  {
   "cell_type": "code",
   "execution_count": 1,
   "metadata": {},
   "outputs": [],
   "source": [
    "import pandas as pd"
   ]
  },
  {
   "cell_type": "code",
   "execution_count": 2,
   "metadata": {},
   "outputs": [],
   "source": [
    "# Note that although I'm using AAPL here, the Reuters scraper I wrote has been abstracted to scrape data for any ticker\n",
    "original_data = pd.read_csv(\"../dataset/AAPL_news.csv\")"
   ]
  },
  {
   "cell_type": "code",
   "execution_count": 3,
   "metadata": {},
   "outputs": [
    {
     "data": {
      "text/html": [
       "<div>\n",
       "<style scoped>\n",
       "    .dataframe tbody tr th:only-of-type {\n",
       "        vertical-align: middle;\n",
       "    }\n",
       "\n",
       "    .dataframe tbody tr th {\n",
       "        vertical-align: top;\n",
       "    }\n",
       "\n",
       "    .dataframe thead th {\n",
       "        text-align: right;\n",
       "    }\n",
       "</style>\n",
       "<table border=\"1\" class=\"dataframe\">\n",
       "  <thead>\n",
       "    <tr style=\"text-align: right;\">\n",
       "      <th></th>\n",
       "      <th>Date</th>\n",
       "      <th>Headline</th>\n",
       "      <th>Sentence</th>\n",
       "    </tr>\n",
       "  </thead>\n",
       "  <tbody>\n",
       "    <tr>\n",
       "      <th>0</th>\n",
       "      <td>JULY 23, 2020</td>\n",
       "      <td>U.S. Congressional hearing to question tech gi...</td>\n",
       "      <td>A U.S. congressional hearing scheduled for nex...</td>\n",
       "    </tr>\n",
       "    <tr>\n",
       "      <th>1</th>\n",
       "      <td>JULY 23, 2020</td>\n",
       "      <td>UPDATE 1-U.S. Congressional hearing to questio...</td>\n",
       "      <td>A U.S. congressional hearing scheduled for nex...</td>\n",
       "    </tr>\n",
       "    <tr>\n",
       "      <th>2</th>\n",
       "      <td>JULY 23, 2020</td>\n",
       "      <td>California appeals court rejects Apple TV cons...</td>\n",
       "      <td>A California appeals court has declined a bid ...</td>\n",
       "    </tr>\n",
       "    <tr>\n",
       "      <th>3</th>\n",
       "      <td>JULY 23, 2020</td>\n",
       "      <td>Apple faces deceptive trade practices probe by...</td>\n",
       "      <td>Multiple U.S. states are investigating Apple I...</td>\n",
       "    </tr>\n",
       "    <tr>\n",
       "      <th>4</th>\n",
       "      <td>JULY 23, 2020</td>\n",
       "      <td>Apple faces consumer protection probe by multi...</td>\n",
       "      <td>Multiple U.S. states are investigating Apple I...</td>\n",
       "    </tr>\n",
       "    <tr>\n",
       "      <th>...</th>\n",
       "      <td>...</td>\n",
       "      <td>...</td>\n",
       "      <td>...</td>\n",
       "    </tr>\n",
       "    <tr>\n",
       "      <th>678</th>\n",
       "      <td>APRIL 15, 2019</td>\n",
       "      <td>Huawei says not discussed 5G chipsets with App...</td>\n",
       "      <td>China's Huawei Technologies said on Tuesday it...</td>\n",
       "    </tr>\n",
       "    <tr>\n",
       "      <th>679</th>\n",
       "      <td>APRIL 15, 2019</td>\n",
       "      <td>Apple, allies seek billions in U.S. trial test...</td>\n",
       "      <td>Apple Inc and its allies on Monday will kick o...</td>\n",
       "    </tr>\n",
       "    <tr>\n",
       "      <th>680</th>\n",
       "      <td>APRIL 12, 2019</td>\n",
       "      <td>Apple hit with East Texas patent case over iPh...</td>\n",
       "      <td>A New York-based patent monetization company o...</td>\n",
       "    </tr>\n",
       "    <tr>\n",
       "      <th>681</th>\n",
       "      <td>APRIL 12, 2019</td>\n",
       "      <td>Chinese group to get control of Japan Display ...</td>\n",
       "      <td>A Chinese-Taiwanese group will take control of...</td>\n",
       "    </tr>\n",
       "    <tr>\n",
       "      <th>682</th>\n",
       "      <td>APRIL 12, 2019</td>\n",
       "      <td>Japanese supplier to Apple gets $1.1 bln in ba...</td>\n",
       "      <td>Apple Inc supplier Japan Display Inc said on F...</td>\n",
       "    </tr>\n",
       "  </tbody>\n",
       "</table>\n",
       "<p>683 rows × 3 columns</p>\n",
       "</div>"
      ],
      "text/plain": [
       "               Date                                           Headline  \\\n",
       "0     JULY 23, 2020  U.S. Congressional hearing to question tech gi...   \n",
       "1     JULY 23, 2020  UPDATE 1-U.S. Congressional hearing to questio...   \n",
       "2     JULY 23, 2020  California appeals court rejects Apple TV cons...   \n",
       "3     JULY 23, 2020  Apple faces deceptive trade practices probe by...   \n",
       "4     JULY 23, 2020  Apple faces consumer protection probe by multi...   \n",
       "..              ...                                                ...   \n",
       "678  APRIL 15, 2019  Huawei says not discussed 5G chipsets with App...   \n",
       "679  APRIL 15, 2019  Apple, allies seek billions in U.S. trial test...   \n",
       "680  APRIL 12, 2019  Apple hit with East Texas patent case over iPh...   \n",
       "681  APRIL 12, 2019  Chinese group to get control of Japan Display ...   \n",
       "682  APRIL 12, 2019  Japanese supplier to Apple gets $1.1 bln in ba...   \n",
       "\n",
       "                                              Sentence  \n",
       "0    A U.S. congressional hearing scheduled for nex...  \n",
       "1    A U.S. congressional hearing scheduled for nex...  \n",
       "2    A California appeals court has declined a bid ...  \n",
       "3    Multiple U.S. states are investigating Apple I...  \n",
       "4    Multiple U.S. states are investigating Apple I...  \n",
       "..                                                 ...  \n",
       "678  China's Huawei Technologies said on Tuesday it...  \n",
       "679  Apple Inc and its allies on Monday will kick o...  \n",
       "680  A New York-based patent monetization company o...  \n",
       "681  A Chinese-Taiwanese group will take control of...  \n",
       "682  Apple Inc supplier Japan Display Inc said on F...  \n",
       "\n",
       "[683 rows x 3 columns]"
      ]
     },
     "execution_count": 3,
     "metadata": {},
     "output_type": "execute_result"
    }
   ],
   "source": [
    "original_data"
   ]
  },
  {
   "cell_type": "markdown",
   "metadata": {},
   "source": [
    "<h2>Null values</h2>\n",
    "\n",
    "<p>A common issue in the date cleaning process is dealing with null values. Let's see how our original dataset fares in this aspect.</p>"
   ]
  },
  {
   "cell_type": "code",
   "execution_count": 4,
   "metadata": {},
   "outputs": [
    {
     "data": {
      "text/plain": [
       "Date        False\n",
       "Headline    False\n",
       "Sentence    False\n",
       "dtype: bool"
      ]
     },
     "execution_count": 4,
     "metadata": {},
     "output_type": "execute_result"
    }
   ],
   "source": [
    "original_data.isnull().any()"
   ]
  },
  {
   "cell_type": "markdown",
   "metadata": {},
   "source": [
    "<p>As we can see, there aren't any null values in the original dataset which is an indicator that our scraper performed relatively well. But then again, null values are a common issue only when dealing with numeric data, so soon enough, we will have to apply text pre-processing techniques to this dataset.</p>"
   ]
  },
  {
   "cell_type": "markdown",
   "metadata": {},
   "source": [
    "<h2>Date Format</h2>\n",
    "\n",
    "<p>Let's convert the \"Date\" column into a pandas Timestamp (pandas equivalent of the datetime object) and take a look at the results.</p>"
   ]
  },
  {
   "cell_type": "code",
   "execution_count": 5,
   "metadata": {},
   "outputs": [
    {
     "data": {
      "text/html": [
       "<div>\n",
       "<style scoped>\n",
       "    .dataframe tbody tr th:only-of-type {\n",
       "        vertical-align: middle;\n",
       "    }\n",
       "\n",
       "    .dataframe tbody tr th {\n",
       "        vertical-align: top;\n",
       "    }\n",
       "\n",
       "    .dataframe thead th {\n",
       "        text-align: right;\n",
       "    }\n",
       "</style>\n",
       "<table border=\"1\" class=\"dataframe\">\n",
       "  <thead>\n",
       "    <tr style=\"text-align: right;\">\n",
       "      <th></th>\n",
       "      <th>Date</th>\n",
       "      <th>Headline</th>\n",
       "      <th>Sentence</th>\n",
       "    </tr>\n",
       "  </thead>\n",
       "  <tbody>\n",
       "    <tr>\n",
       "      <th>0</th>\n",
       "      <td>2020-07-23</td>\n",
       "      <td>U.S. Congressional hearing to question tech gi...</td>\n",
       "      <td>A U.S. congressional hearing scheduled for nex...</td>\n",
       "    </tr>\n",
       "    <tr>\n",
       "      <th>1</th>\n",
       "      <td>2020-07-23</td>\n",
       "      <td>UPDATE 1-U.S. Congressional hearing to questio...</td>\n",
       "      <td>A U.S. congressional hearing scheduled for nex...</td>\n",
       "    </tr>\n",
       "    <tr>\n",
       "      <th>2</th>\n",
       "      <td>2020-07-23</td>\n",
       "      <td>California appeals court rejects Apple TV cons...</td>\n",
       "      <td>A California appeals court has declined a bid ...</td>\n",
       "    </tr>\n",
       "    <tr>\n",
       "      <th>3</th>\n",
       "      <td>2020-07-23</td>\n",
       "      <td>Apple faces deceptive trade practices probe by...</td>\n",
       "      <td>Multiple U.S. states are investigating Apple I...</td>\n",
       "    </tr>\n",
       "    <tr>\n",
       "      <th>4</th>\n",
       "      <td>2020-07-23</td>\n",
       "      <td>Apple faces consumer protection probe by multi...</td>\n",
       "      <td>Multiple U.S. states are investigating Apple I...</td>\n",
       "    </tr>\n",
       "  </tbody>\n",
       "</table>\n",
       "</div>"
      ],
      "text/plain": [
       "        Date                                           Headline  \\\n",
       "0 2020-07-23  U.S. Congressional hearing to question tech gi...   \n",
       "1 2020-07-23  UPDATE 1-U.S. Congressional hearing to questio...   \n",
       "2 2020-07-23  California appeals court rejects Apple TV cons...   \n",
       "3 2020-07-23  Apple faces deceptive trade practices probe by...   \n",
       "4 2020-07-23  Apple faces consumer protection probe by multi...   \n",
       "\n",
       "                                            Sentence  \n",
       "0  A U.S. congressional hearing scheduled for nex...  \n",
       "1  A U.S. congressional hearing scheduled for nex...  \n",
       "2  A California appeals court has declined a bid ...  \n",
       "3  Multiple U.S. states are investigating Apple I...  \n",
       "4  Multiple U.S. states are investigating Apple I...  "
      ]
     },
     "execution_count": 5,
     "metadata": {},
     "output_type": "execute_result"
    }
   ],
   "source": [
    "df = original_data.copy() # making a copy of the original DataFrame to work with\n",
    "df[\"Date\"] = pd.to_datetime(df[\"Date\"])\n",
    "\n",
    "df.head()"
   ]
  },
  {
   "cell_type": "markdown",
   "metadata": {},
   "source": [
    "<p>That's pretty much everything we have to do to the \"Date\" column as far as cleaning it up is concerned.</p>"
   ]
  },
  {
   "cell_type": "markdown",
   "metadata": {},
   "source": [
    "<h2>Common Functions to Clean Text Data</h2>\n",
    "\n",
    "<p>There are several ways to clean/process text data before feeding it into a model. The exact functions required varies across different use cases. Here are some of the procecssing steps we need to employ for this project</p>\n",
    "\n",
    "<ul>\n",
    "    <li>Converting all text to lowercase</li>\n",
    "    <li>Getting rid of special characters and punctuation (', ,, :, %, # etc.)</li>\n",
    "    <li>Getting rid of stop words (words that add little to no meaning to the sentence on their own - a, an, the etc.)</li>\n",
    "    <li>Getting rid of text between angular brackets</li>\n",
    "    <li>Replacing occurrences of \"U.S\" with united states</li>\n",
    "    <li>Replacing occurrences of \"EU\" with europe</li>\n",
    "    <li>Tokenization - Splitting the text into its constituent words</li>\n",
    "    <li>Lemmatization - Dealing with word inflections (rise, risen etc.)</li>\n",
    "    <li>And potentially more</li>\n",
    "</ul>"
   ]
  },
  {
   "cell_type": "code",
   "execution_count": null,
   "metadata": {},
   "outputs": [],
   "source": []
  }
 ],
 "metadata": {
  "kernelspec": {
   "display_name": "Python 3",
   "language": "python",
   "name": "python3"
  },
  "language_info": {
   "codemirror_mode": {
    "name": "ipython",
    "version": 3
   },
   "file_extension": ".py",
   "mimetype": "text/x-python",
   "name": "python",
   "nbconvert_exporter": "python",
   "pygments_lexer": "ipython3",
   "version": "3.8.3"
  }
 },
 "nbformat": 4,
 "nbformat_minor": 4
}
