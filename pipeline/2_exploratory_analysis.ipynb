{
 "cells": [
  {
   "cell_type": "markdown",
   "metadata": {},
   "source": [
    "<h1>Exploratory Data Analysis (EDA)</h1>\n",
    "\n",
    "<p>This is the next component of the NLP pipeline (follows data cleaning). EDA is carried out to verify that the data we have makes sense. If it doesn't, then we'll have to go back to our data cleaning notebook and implement a few more techniques to transform the data into a more usable format.</p>"
   ]
  },
  {
   "cell_type": "code",
   "execution_count": 1,
   "metadata": {},
   "outputs": [],
   "source": [
    "# Reading in clean data\n",
    "import pandas as pd\n",
    "\n",
    "headlines = pd.read_pickle(\"./pickles/headline_dtm.pkl\")\n",
    "sentences = pd.read_pickle(\"./pickles/sentence_dtm.pkl\")\n",
    "\n",
    "# Transposing the datasets for easier comprehension\n",
    "headlines = headlines.transpose()\n",
    "sentences = sentences.transpose()"
   ]
  },
  {
   "cell_type": "markdown",
   "metadata": {},
   "source": [
    "<p>EDA is done by visualizing aspects of the cleaned dataset.</p>\n",
    "\n",
    "<p><i>(For each visualization that's presented, there will be two variants - headlines and first sentences.)</i></p>"
   ]
  },
  {
   "cell_type": "code",
   "execution_count": null,
   "metadata": {},
   "outputs": [],
   "source": []
  }
 ],
 "metadata": {
  "kernelspec": {
   "display_name": "Python 3",
   "language": "python",
   "name": "python3"
  },
  "language_info": {
   "codemirror_mode": {
    "name": "ipython",
    "version": 3
   },
   "file_extension": ".py",
   "mimetype": "text/x-python",
   "name": "python",
   "nbconvert_exporter": "python",
   "pygments_lexer": "ipython3",
   "version": "3.8.3"
  }
 },
 "nbformat": 4,
 "nbformat_minor": 4
}
