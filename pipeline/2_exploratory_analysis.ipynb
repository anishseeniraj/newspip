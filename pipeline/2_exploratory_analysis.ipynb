{
 "cells": [
  {
   "cell_type": "markdown",
   "metadata": {},
   "source": [
    "<h1>Exploratory Data Analysis (EDA)</h1>\n",
    "\n",
    "<p>This is the next component of the NLP pipeline (follows data cleaning). EDA is carried out to verify that the data we have makes sense. If it doesn't, then we'll have to go back to our data cleaning notebook and implement a few more techniques to transform the data into a more usable format.</p>"
   ]
  },
  {
   "cell_type": "code",
   "execution_count": null,
   "metadata": {},
   "outputs": [],
   "source": [
    "import pandas as pd\n",
    "import seaborn as sns\n",
    "from textblob import TextBlob\n",
    "\n",
    "# Read in corpus and DTMs\n",
    "headlines = pd.read_pickle(\"./pickles/headline_dtm.pkl\")\n",
    "text = pd.read_pickle(\"./pickles/text_dtm.pkl\")\n",
    "df = pd.read_pickle(\"./pickles/corpus.pkl\")\n",
    "\n",
    "# Transposing the datasets for easier comprehension\n",
    "headlines = headlines.transpose()\n",
    "text = text.transpose()"
   ]
  },
  {
   "cell_type": "markdown",
   "metadata": {},
   "source": [
    "<p>EDA is done by visualizing aspects of the cleaned dataset.</p>\n",
    "\n",
    "<p><i>(For each visualization that's presented, there will be two variants - headlines and display text.)</i></p>"
   ]
  },
  {
   "cell_type": "markdown",
   "metadata": {},
   "source": [
    "<li>Comparing sentiment polarity using TextBlob</li>"
   ]
  },
  {
   "cell_type": "code",
   "execution_count": null,
   "metadata": {},
   "outputs": [],
   "source": [
    "# Headline sentiment\n",
    "df[\"Headline Polarity\"] = df[\"Headline\"].map(lambda text: TextBlob(text).sentiment.polarity)\n",
    "\n",
    "sns.distplot(df[\"Headline Polarity\"])"
   ]
  },
  {
   "cell_type": "code",
   "execution_count": null,
   "metadata": {},
   "outputs": [],
   "source": [
    "# Display text sentiment (headline + first sentence)\n",
    "df[\"Text Polarity\"] = df[\"Text\"].map(lambda text: TextBlob(text).sentiment.polarity)\n",
    "\n",
    "sns.distplot(df[\"Text Polarity\"])"
   ]
  },
  {
   "cell_type": "markdown",
   "metadata": {},
   "source": [
    "<p>This tells us that most of the news has been pretty neutral (positive) in sentiment. Let's compare this to the stock price inlection to verify this.</p>"
   ]
  },
  {
   "cell_type": "markdown",
   "metadata": {},
   "source": [
    "<li>Stock price inflection</li>"
   ]
  },
  {
   "cell_type": "code",
   "execution_count": null,
   "metadata": {},
   "outputs": [],
   "source": [
    "sns.distplot(df[\"Inflection\"], color=\"r\")"
   ]
  },
  {
   "cell_type": "markdown",
   "metadata": {},
   "source": [
    "<p>So it's true that there are more upward inflections in the price.</p>"
   ]
  },
  {
   "cell_type": "markdown",
   "metadata": {},
   "source": [
    "<p>Let's take a look at the length of the text.</p>"
   ]
  },
  {
   "cell_type": "markdown",
   "metadata": {},
   "source": [
    "<li>News length</li>"
   ]
  },
  {
   "cell_type": "code",
   "execution_count": null,
   "metadata": {},
   "outputs": [],
   "source": [
    "# Headline length\n",
    "df[\"Headline Length\"] = df[\"Headline\"].map(lambda text: len(text))\n",
    "\n",
    "sns.distplot(df[\"Headline Length\"],\n",
    "             kde_kws={\"color\": \"b\", \"lw\": 2, \"label\": \"KDE\"},\n",
    "             hist_kws={\"histtype\": \"step\", \"linewidth\": 3, \"alpha\": 1, \"color\": \"g\"})"
   ]
  },
  {
   "cell_type": "code",
   "execution_count": null,
   "metadata": {},
   "outputs": [],
   "source": [
    "# Display text length (headline + first sentence)\n",
    "df[\"Text Length\"] = df[\"Text\"].map(lambda text: len(text))\n",
    "\n",
    "sns.distplot(df[\"Text Length\"],\n",
    "             kde_kws={\"color\": \"r\", \"lw\": 2, \"label\": \"KDE\"},\n",
    "             hist_kws={\"histtype\": \"step\", \"linewidth\": 3, \"alpha\": 1, \"color\": \"k\"})"
   ]
  },
  {
   "cell_type": "markdown",
   "metadata": {},
   "source": [
    "<p>The mode headline length is around 70 characters while the mode display text length is around 280 characters. Let's see if these numbers mean anything by charting correlation plots (with Inflection).</p>"
   ]
  },
  {
   "cell_type": "markdown",
   "metadata": {},
   "source": [
    "<li>Correlation between news length and price inflection</li>"
   ]
  },
  {
   "cell_type": "code",
   "execution_count": null,
   "metadata": {},
   "outputs": [],
   "source": [
    "# Relationship between headline length and price inflection\n",
    "sns.pairplot(df, vars=[\"Headline Length\", \"Inflection\"], kind=\"reg\")"
   ]
  },
  {
   "cell_type": "code",
   "execution_count": null,
   "metadata": {},
   "outputs": [],
   "source": [
    "# Relationship between display text length and price inflection\n",
    "sns.pairplot(df, vars=[\"Text Length\", \"Inflection\"], kind=\"reg\")"
   ]
  },
  {
   "cell_type": "code",
   "execution_count": null,
   "metadata": {},
   "outputs": [],
   "source": []
  }
 ],
 "metadata": {
  "kernelspec": {
   "display_name": "Python 3",
   "language": "python",
   "name": "python3"
  },
  "language_info": {
   "codemirror_mode": {
    "name": "ipython",
    "version": 3
   },
   "file_extension": ".py",
   "mimetype": "text/x-python",
   "name": "python",
   "nbconvert_exporter": "python",
   "pygments_lexer": "ipython3",
   "version": "3.8.3"
  }
 },
 "nbformat": 4,
 "nbformat_minor": 4
}
